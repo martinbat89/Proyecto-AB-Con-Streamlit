{
 "cells": [
  {
   "cell_type": "markdown",
   "id": "efefd8cd",
   "metadata": {},
   "source": [
    "<h1>Proyecto Análisis A/B</h1>"
   ]
  },
  {
   "cell_type": "markdown",
   "id": "21b8b062",
   "metadata": {},
   "source": [
    "**Descripción del Proyecto de Kaggle:** \n",
    "\n",
    "Para determinar si los anuncios por una campaña tienen efectos en las compras por parte de los clientes se cuenta con un set de datos con el resultado de un proceso experimental de publicidad. Algunas personas estuvieron expuestas a anuncios (Grupo AD - Experimental) y otras solo recibieron anuncios publicos o ningún anuncio (PSA).\n",
    "\n",
    "Dataset descargado de Kaggle (Licencia CCO: Public domain): [Link al dataset](https://www.kaggle.com/datasets/faviovaz/marketing-ab-testing?resource=download)"
   ]
  },
  {
   "cell_type": "code",
   "execution_count": 25,
   "id": "014a0c24",
   "metadata": {},
   "outputs": [],
   "source": [
    "#importamos las librerías necesarias\n",
    "import pandas as pd\n",
    "import matplotlib.pyplot as plt\n",
    "import numpy as np\n",
    "from statsmodels.stats.proportion import proportions_ztest\n",
    "%matplotlib inline\n"
   ]
  },
  {
   "cell_type": "markdown",
   "id": "b01ca9f0",
   "metadata": {},
   "source": [
    "## Lectura y análisis exploratorio inicial de datos"
   ]
  },
  {
   "cell_type": "code",
   "execution_count": 26,
   "id": "fbf41a7a",
   "metadata": {},
   "outputs": [],
   "source": [
    "#Lectura de los datos y carga a la variable data_mk\n",
    "data_mk = pd.read_csv('marketing_AB.csv')"
   ]
  },
  {
   "cell_type": "code",
   "execution_count": 27,
   "id": "d643a2d4",
   "metadata": {},
   "outputs": [
    {
     "data": {
      "text/html": [
       "<div>\n",
       "<style scoped>\n",
       "    .dataframe tbody tr th:only-of-type {\n",
       "        vertical-align: middle;\n",
       "    }\n",
       "\n",
       "    .dataframe tbody tr th {\n",
       "        vertical-align: top;\n",
       "    }\n",
       "\n",
       "    .dataframe thead th {\n",
       "        text-align: right;\n",
       "    }\n",
       "</style>\n",
       "<table border=\"1\" class=\"dataframe\">\n",
       "  <thead>\n",
       "    <tr style=\"text-align: right;\">\n",
       "      <th></th>\n",
       "      <th>Unnamed: 0</th>\n",
       "      <th>user id</th>\n",
       "      <th>test group</th>\n",
       "      <th>converted</th>\n",
       "      <th>total ads</th>\n",
       "      <th>most ads day</th>\n",
       "      <th>most ads hour</th>\n",
       "    </tr>\n",
       "  </thead>\n",
       "  <tbody>\n",
       "    <tr>\n",
       "      <th>0</th>\n",
       "      <td>0</td>\n",
       "      <td>1069124</td>\n",
       "      <td>ad</td>\n",
       "      <td>False</td>\n",
       "      <td>130</td>\n",
       "      <td>Monday</td>\n",
       "      <td>20</td>\n",
       "    </tr>\n",
       "    <tr>\n",
       "      <th>1</th>\n",
       "      <td>1</td>\n",
       "      <td>1119715</td>\n",
       "      <td>ad</td>\n",
       "      <td>False</td>\n",
       "      <td>93</td>\n",
       "      <td>Tuesday</td>\n",
       "      <td>22</td>\n",
       "    </tr>\n",
       "    <tr>\n",
       "      <th>2</th>\n",
       "      <td>2</td>\n",
       "      <td>1144181</td>\n",
       "      <td>ad</td>\n",
       "      <td>False</td>\n",
       "      <td>21</td>\n",
       "      <td>Tuesday</td>\n",
       "      <td>18</td>\n",
       "    </tr>\n",
       "    <tr>\n",
       "      <th>3</th>\n",
       "      <td>3</td>\n",
       "      <td>1435133</td>\n",
       "      <td>ad</td>\n",
       "      <td>False</td>\n",
       "      <td>355</td>\n",
       "      <td>Tuesday</td>\n",
       "      <td>10</td>\n",
       "    </tr>\n",
       "    <tr>\n",
       "      <th>4</th>\n",
       "      <td>4</td>\n",
       "      <td>1015700</td>\n",
       "      <td>ad</td>\n",
       "      <td>False</td>\n",
       "      <td>276</td>\n",
       "      <td>Friday</td>\n",
       "      <td>14</td>\n",
       "    </tr>\n",
       "    <tr>\n",
       "      <th>5</th>\n",
       "      <td>5</td>\n",
       "      <td>1137664</td>\n",
       "      <td>ad</td>\n",
       "      <td>False</td>\n",
       "      <td>734</td>\n",
       "      <td>Saturday</td>\n",
       "      <td>10</td>\n",
       "    </tr>\n",
       "    <tr>\n",
       "      <th>6</th>\n",
       "      <td>6</td>\n",
       "      <td>1116205</td>\n",
       "      <td>ad</td>\n",
       "      <td>False</td>\n",
       "      <td>264</td>\n",
       "      <td>Wednesday</td>\n",
       "      <td>13</td>\n",
       "    </tr>\n",
       "    <tr>\n",
       "      <th>7</th>\n",
       "      <td>7</td>\n",
       "      <td>1496843</td>\n",
       "      <td>ad</td>\n",
       "      <td>False</td>\n",
       "      <td>17</td>\n",
       "      <td>Sunday</td>\n",
       "      <td>18</td>\n",
       "    </tr>\n",
       "    <tr>\n",
       "      <th>8</th>\n",
       "      <td>8</td>\n",
       "      <td>1448851</td>\n",
       "      <td>ad</td>\n",
       "      <td>False</td>\n",
       "      <td>21</td>\n",
       "      <td>Tuesday</td>\n",
       "      <td>19</td>\n",
       "    </tr>\n",
       "    <tr>\n",
       "      <th>9</th>\n",
       "      <td>9</td>\n",
       "      <td>1446284</td>\n",
       "      <td>ad</td>\n",
       "      <td>False</td>\n",
       "      <td>142</td>\n",
       "      <td>Monday</td>\n",
       "      <td>14</td>\n",
       "    </tr>\n",
       "  </tbody>\n",
       "</table>\n",
       "</div>"
      ],
      "text/plain": [
       "   Unnamed: 0  user id test group  converted  total ads most ads day  \\\n",
       "0           0  1069124         ad      False        130       Monday   \n",
       "1           1  1119715         ad      False         93      Tuesday   \n",
       "2           2  1144181         ad      False         21      Tuesday   \n",
       "3           3  1435133         ad      False        355      Tuesday   \n",
       "4           4  1015700         ad      False        276       Friday   \n",
       "5           5  1137664         ad      False        734     Saturday   \n",
       "6           6  1116205         ad      False        264    Wednesday   \n",
       "7           7  1496843         ad      False         17       Sunday   \n",
       "8           8  1448851         ad      False         21      Tuesday   \n",
       "9           9  1446284         ad      False        142       Monday   \n",
       "\n",
       "   most ads hour  \n",
       "0             20  \n",
       "1             22  \n",
       "2             18  \n",
       "3             10  \n",
       "4             14  \n",
       "5             10  \n",
       "6             13  \n",
       "7             18  \n",
       "8             19  \n",
       "9             14  "
      ]
     },
     "execution_count": 27,
     "metadata": {},
     "output_type": "execute_result"
    }
   ],
   "source": [
    "#imprimir primeros registros\n",
    "data_mk.head(10)"
   ]
  },
  {
   "cell_type": "code",
   "execution_count": 28,
   "id": "08c54369",
   "metadata": {},
   "outputs": [
    {
     "data": {
      "text/html": [
       "<div>\n",
       "<style scoped>\n",
       "    .dataframe tbody tr th:only-of-type {\n",
       "        vertical-align: middle;\n",
       "    }\n",
       "\n",
       "    .dataframe tbody tr th {\n",
       "        vertical-align: top;\n",
       "    }\n",
       "\n",
       "    .dataframe thead th {\n",
       "        text-align: right;\n",
       "    }\n",
       "</style>\n",
       "<table border=\"1\" class=\"dataframe\">\n",
       "  <thead>\n",
       "    <tr style=\"text-align: right;\">\n",
       "      <th></th>\n",
       "      <th>Unnamed: 0</th>\n",
       "      <th>user id</th>\n",
       "      <th>test group</th>\n",
       "      <th>converted</th>\n",
       "      <th>total ads</th>\n",
       "      <th>most ads day</th>\n",
       "      <th>most ads hour</th>\n",
       "    </tr>\n",
       "  </thead>\n",
       "  <tbody>\n",
       "    <tr>\n",
       "      <th>588096</th>\n",
       "      <td>588096</td>\n",
       "      <td>1278437</td>\n",
       "      <td>ad</td>\n",
       "      <td>False</td>\n",
       "      <td>1</td>\n",
       "      <td>Tuesday</td>\n",
       "      <td>23</td>\n",
       "    </tr>\n",
       "    <tr>\n",
       "      <th>588097</th>\n",
       "      <td>588097</td>\n",
       "      <td>1327975</td>\n",
       "      <td>ad</td>\n",
       "      <td>False</td>\n",
       "      <td>1</td>\n",
       "      <td>Tuesday</td>\n",
       "      <td>23</td>\n",
       "    </tr>\n",
       "    <tr>\n",
       "      <th>588098</th>\n",
       "      <td>588098</td>\n",
       "      <td>1038442</td>\n",
       "      <td>ad</td>\n",
       "      <td>False</td>\n",
       "      <td>3</td>\n",
       "      <td>Tuesday</td>\n",
       "      <td>23</td>\n",
       "    </tr>\n",
       "    <tr>\n",
       "      <th>588099</th>\n",
       "      <td>588099</td>\n",
       "      <td>1496395</td>\n",
       "      <td>ad</td>\n",
       "      <td>False</td>\n",
       "      <td>1</td>\n",
       "      <td>Tuesday</td>\n",
       "      <td>23</td>\n",
       "    </tr>\n",
       "    <tr>\n",
       "      <th>588100</th>\n",
       "      <td>588100</td>\n",
       "      <td>1237779</td>\n",
       "      <td>ad</td>\n",
       "      <td>False</td>\n",
       "      <td>1</td>\n",
       "      <td>Tuesday</td>\n",
       "      <td>23</td>\n",
       "    </tr>\n",
       "  </tbody>\n",
       "</table>\n",
       "</div>"
      ],
      "text/plain": [
       "        Unnamed: 0  user id test group  converted  total ads most ads day  \\\n",
       "588096      588096  1278437         ad      False          1      Tuesday   \n",
       "588097      588097  1327975         ad      False          1      Tuesday   \n",
       "588098      588098  1038442         ad      False          3      Tuesday   \n",
       "588099      588099  1496395         ad      False          1      Tuesday   \n",
       "588100      588100  1237779         ad      False          1      Tuesday   \n",
       "\n",
       "        most ads hour  \n",
       "588096             23  \n",
       "588097             23  \n",
       "588098             23  \n",
       "588099             23  \n",
       "588100             23  "
      ]
     },
     "execution_count": 28,
     "metadata": {},
     "output_type": "execute_result"
    }
   ],
   "source": [
    "#imprimir la cola de la tabla\n",
    "data_mk.tail()"
   ]
  },
  {
   "cell_type": "code",
   "execution_count": 29,
   "id": "8d4d99bc",
   "metadata": {},
   "outputs": [
    {
     "name": "stdout",
     "output_type": "stream",
     "text": [
      "588101\n"
     ]
    }
   ],
   "source": [
    "#estructura de columnas y filas de la tabla\n",
    "data_mk.shape\n",
    "print(data_mk.shape[0])"
   ]
  },
  {
   "cell_type": "code",
   "execution_count": 30,
   "id": "aa8e8c16",
   "metadata": {},
   "outputs": [
    {
     "name": "stdout",
     "output_type": "stream",
     "text": [
      "<class 'pandas.core.frame.DataFrame'>\n",
      "RangeIndex: 588101 entries, 0 to 588100\n",
      "Data columns (total 7 columns):\n",
      " #   Column         Non-Null Count   Dtype \n",
      "---  ------         --------------   ----- \n",
      " 0   Unnamed: 0     588101 non-null  int64 \n",
      " 1   user id        588101 non-null  int64 \n",
      " 2   test group     588101 non-null  object\n",
      " 3   converted      588101 non-null  bool  \n",
      " 4   total ads      588101 non-null  int64 \n",
      " 5   most ads day   588101 non-null  object\n",
      " 6   most ads hour  588101 non-null  int64 \n",
      "dtypes: bool(1), int64(4), object(2)\n",
      "memory usage: 27.5+ MB\n"
     ]
    }
   ],
   "source": [
    "#info ppal de la tabla\n",
    "data_mk.info()"
   ]
  },
  {
   "cell_type": "code",
   "execution_count": 31,
   "id": "85c323e8",
   "metadata": {},
   "outputs": [
    {
     "name": "stdout",
     "output_type": "stream",
     "text": [
      "           Unnamed: 0       user id test group converted      total ads  \\\n",
      "count   588101.000000  5.881010e+05     588101    588101  588101.000000   \n",
      "unique            NaN           NaN          2         2            NaN   \n",
      "top               NaN           NaN         ad     False            NaN   \n",
      "freq              NaN           NaN     564577    573258            NaN   \n",
      "mean    294050.000000  1.310692e+06        NaN       NaN      24.820876   \n",
      "std     169770.279668  2.022260e+05        NaN       NaN      43.715181   \n",
      "min          0.000000  9.000000e+05        NaN       NaN       1.000000   \n",
      "25%     147025.000000  1.143190e+06        NaN       NaN       4.000000   \n",
      "50%     294050.000000  1.313725e+06        NaN       NaN      13.000000   \n",
      "75%     441075.000000  1.484088e+06        NaN       NaN      27.000000   \n",
      "max     588100.000000  1.654483e+06        NaN       NaN    2065.000000   \n",
      "\n",
      "       most ads day  most ads hour  \n",
      "count        588101  588101.000000  \n",
      "unique            7            NaN  \n",
      "top          Friday            NaN  \n",
      "freq          92608            NaN  \n",
      "mean            NaN      14.469061  \n",
      "std             NaN       4.834634  \n",
      "min             NaN       0.000000  \n",
      "25%             NaN      11.000000  \n",
      "50%             NaN      14.000000  \n",
      "75%             NaN      18.000000  \n",
      "max             NaN      23.000000  \n"
     ]
    }
   ],
   "source": [
    "#principales estadísticas\n",
    "print(data_mk.describe(include=\"all\"))"
   ]
  },
  {
   "cell_type": "code",
   "execution_count": 32,
   "id": "2e5b1879",
   "metadata": {},
   "outputs": [
    {
     "name": "stdout",
     "output_type": "stream",
     "text": [
      "Unnamed: 0       0\n",
      "user id          0\n",
      "test group       0\n",
      "converted        0\n",
      "total ads        0\n",
      "most ads day     0\n",
      "most ads hour    0\n",
      "dtype: int64\n",
      "Conclusion No se detectan nulos\n"
     ]
    }
   ],
   "source": [
    "#detectar valores na\n",
    "print(data_mk.isna().sum())\n",
    "\n",
    "print('Conclusion No se detectan nulos')"
   ]
  },
  {
   "cell_type": "markdown",
   "id": "b5b6fb42",
   "metadata": {},
   "source": [
    "## Analisis preliminar de los datos por campo\n",
    "\n",
    "* **user id:** Es el numero que identifica al cliente. Lo dejamos para analizar el comportamiento si se repiten.\n",
    "* **test group:** Nos indica si el cliente miró los avisos o lo vio en el servicio público.\n",
    "* **converted:** Si la persona compro el producto.\n",
    "* **total ads** Cantidad de anuncios vistos por persona.\n",
    "* **most ads day:** Día que la persona vio la mayor cantidad de anuncios.\n",
    "* **most ads hour** Hora del día en que la persona vio la mayor cantidad de anuncios.\n",
    "\n",
    "_Por ahora se dejan todas las columnas. con esto damos por completado el preprocesamiento de los datos_"
   ]
  },
  {
   "cell_type": "code",
   "execution_count": 33,
   "id": "f499f98a",
   "metadata": {},
   "outputs": [
    {
     "name": "stdout",
     "output_type": "stream",
     "text": [
      "Usuarios repetidos 588101\n"
     ]
    }
   ],
   "source": [
    "#agrupamos los registros por la col \"user id\" para ver usuarios repetidos\n",
    "print(\"Usuarios repetidos \" + str(data_mk.groupby(by=[\"user id\"])['user id'].nunique().count()))"
   ]
  },
  {
   "cell_type": "code",
   "execution_count": 34,
   "id": "86e6bc5c",
   "metadata": {},
   "outputs": [
    {
     "data": {
      "text/plain": [
       "converted\n",
       "False    573258\n",
       "True      14843\n",
       "Name: user id, dtype: int64"
      ]
     },
     "execution_count": 34,
     "metadata": {},
     "output_type": "execute_result"
    }
   ],
   "source": [
    "#agrupamos los registros por la col \"converted\" \n",
    "data_mk.groupby(by=[\"converted\"])['user id'].count()"
   ]
  },
  {
   "cell_type": "code",
   "execution_count": 35,
   "id": "88ab62c2",
   "metadata": {},
   "outputs": [
    {
     "data": {
      "text/plain": [
       "converted  test group\n",
       "False      ad            550154\n",
       "           psa            23104\n",
       "True       ad             14423\n",
       "           psa              420\n",
       "Name: user id, dtype: int64"
      ]
     },
     "execution_count": 35,
     "metadata": {},
     "output_type": "execute_result"
    }
   ],
   "source": [
    "#agrupamos los registros por la col \"converted\" y \"test group\"\n",
    "data_mk.groupby(by=[\"converted\", \"test group\"]).count()[\"user id\"]"
   ]
  },
  {
   "cell_type": "code",
   "execution_count": 36,
   "id": "27ac764b",
   "metadata": {},
   "outputs": [
    {
     "data": {
      "text/plain": [
       "test group  converted\n",
       "ad          False        550154\n",
       "            True          14423\n",
       "psa         False         23104\n",
       "            True            420\n",
       "Name: user id, dtype: int64"
      ]
     },
     "execution_count": 36,
     "metadata": {},
     "output_type": "execute_result"
    }
   ],
   "source": [
    "#agrupamos los registros por la col \"test group\" \"converted\" \n",
    "data_mk.groupby(by=[\"test group\", \"converted\"]).count()[\"user id\"]"
   ]
  },
  {
   "cell_type": "code",
   "execution_count": 37,
   "id": "df1dbb92",
   "metadata": {},
   "outputs": [
    {
     "name": "stdout",
     "output_type": "stream",
     "text": [
      "Index(['ad', 'psa'], dtype='object', name='test group')\n"
     ]
    }
   ],
   "source": [
    "#agrupar por tipo de cliente\n",
    "tipo_adv = data_mk.groupby(by=[\"test group\"])[\"user id\"].count()\n",
    "\n",
    "print(tipo_adv.keys())"
   ]
  },
  {
   "cell_type": "code",
   "execution_count": 38,
   "id": "47d0993b",
   "metadata": {},
   "outputs": [
    {
     "data": {
      "text/plain": [
       "<Axes: title={'center': 'Clientes Agrupados Por Tipo De Aviso'}, ylabel='user id'>"
      ]
     },
     "execution_count": 38,
     "metadata": {},
     "output_type": "execute_result"
    },
    {
     "data": {
      "image/png": "[encoded data removed]",
      "text/plain": [
       "<Figure size 200x200 with 1 Axes>"
      ]
     },
     "metadata": {},
     "output_type": "display_data"
    }
   ],
   "source": [
    "tipo_adv.plot.pie(figsize= (2,2),autopct='%1.1f%%', title=\"Clientes Agrupados Por Tipo De Aviso\")"
   ]
  },
  {
   "cell_type": "markdown",
   "id": "492ea31f",
   "metadata": {},
   "source": [
    "## Limpieza De Datos"
   ]
  },
  {
   "cell_type": "code",
   "execution_count": 39,
   "id": "9cb8db8a",
   "metadata": {},
   "outputs": [
    {
     "data": {
      "text/plain": [
       "Index(['Unnamed: 0', 'user id', 'test group', 'converted', 'total ads',\n",
       "       'most ads day', 'most ads hour'],\n",
       "      dtype='object')"
      ]
     },
     "execution_count": 39,
     "metadata": {},
     "output_type": "execute_result"
    }
   ],
   "source": [
    "#Ver columnas del DF\n",
    "data_mk.columns"
   ]
  },
  {
   "cell_type": "code",
   "execution_count": 40,
   "id": "cb139eca",
   "metadata": {},
   "outputs": [
    {
     "data": {
      "text/plain": [
       "Index(['Unnamed:_0', 'user_id', 'test_group', 'converted', 'total_ads',\n",
       "       'most_ads_day', 'most_ads_hour'],\n",
       "      dtype='object')"
      ]
     },
     "execution_count": 40,
     "metadata": {},
     "output_type": "execute_result"
    }
   ],
   "source": [
    "#Quitar espacio de nombres de campos. \n",
    "data_mk.rename(columns=lambda e: e.strip().replace(\" \", \"_\"), inplace=True)\n",
    "data_mk.columns"
   ]
  },
  {
   "cell_type": "code",
   "execution_count": 41,
   "id": "9c6d8020",
   "metadata": {},
   "outputs": [
    {
     "data": {
      "text/html": [
       "<div>\n",
       "<style scoped>\n",
       "    .dataframe tbody tr th:only-of-type {\n",
       "        vertical-align: middle;\n",
       "    }\n",
       "\n",
       "    .dataframe tbody tr th {\n",
       "        vertical-align: top;\n",
       "    }\n",
       "\n",
       "    .dataframe thead th {\n",
       "        text-align: right;\n",
       "    }\n",
       "</style>\n",
       "<table border=\"1\" class=\"dataframe\">\n",
       "  <thead>\n",
       "    <tr style=\"text-align: right;\">\n",
       "      <th></th>\n",
       "      <th>user_id</th>\n",
       "      <th>test_group</th>\n",
       "      <th>converted</th>\n",
       "      <th>total_ads</th>\n",
       "      <th>most_ads_day</th>\n",
       "      <th>most_ads_hour</th>\n",
       "    </tr>\n",
       "  </thead>\n",
       "  <tbody>\n",
       "    <tr>\n",
       "      <th>0</th>\n",
       "      <td>1069124</td>\n",
       "      <td>ad</td>\n",
       "      <td>False</td>\n",
       "      <td>130</td>\n",
       "      <td>Monday</td>\n",
       "      <td>20</td>\n",
       "    </tr>\n",
       "    <tr>\n",
       "      <th>1</th>\n",
       "      <td>1119715</td>\n",
       "      <td>ad</td>\n",
       "      <td>False</td>\n",
       "      <td>93</td>\n",
       "      <td>Tuesday</td>\n",
       "      <td>22</td>\n",
       "    </tr>\n",
       "    <tr>\n",
       "      <th>2</th>\n",
       "      <td>1144181</td>\n",
       "      <td>ad</td>\n",
       "      <td>False</td>\n",
       "      <td>21</td>\n",
       "      <td>Tuesday</td>\n",
       "      <td>18</td>\n",
       "    </tr>\n",
       "    <tr>\n",
       "      <th>3</th>\n",
       "      <td>1435133</td>\n",
       "      <td>ad</td>\n",
       "      <td>False</td>\n",
       "      <td>355</td>\n",
       "      <td>Tuesday</td>\n",
       "      <td>10</td>\n",
       "    </tr>\n",
       "    <tr>\n",
       "      <th>4</th>\n",
       "      <td>1015700</td>\n",
       "      <td>ad</td>\n",
       "      <td>False</td>\n",
       "      <td>276</td>\n",
       "      <td>Friday</td>\n",
       "      <td>14</td>\n",
       "    </tr>\n",
       "    <tr>\n",
       "      <th>...</th>\n",
       "      <td>...</td>\n",
       "      <td>...</td>\n",
       "      <td>...</td>\n",
       "      <td>...</td>\n",
       "      <td>...</td>\n",
       "      <td>...</td>\n",
       "    </tr>\n",
       "    <tr>\n",
       "      <th>588096</th>\n",
       "      <td>1278437</td>\n",
       "      <td>ad</td>\n",
       "      <td>False</td>\n",
       "      <td>1</td>\n",
       "      <td>Tuesday</td>\n",
       "      <td>23</td>\n",
       "    </tr>\n",
       "    <tr>\n",
       "      <th>588097</th>\n",
       "      <td>1327975</td>\n",
       "      <td>ad</td>\n",
       "      <td>False</td>\n",
       "      <td>1</td>\n",
       "      <td>Tuesday</td>\n",
       "      <td>23</td>\n",
       "    </tr>\n",
       "    <tr>\n",
       "      <th>588098</th>\n",
       "      <td>1038442</td>\n",
       "      <td>ad</td>\n",
       "      <td>False</td>\n",
       "      <td>3</td>\n",
       "      <td>Tuesday</td>\n",
       "      <td>23</td>\n",
       "    </tr>\n",
       "    <tr>\n",
       "      <th>588099</th>\n",
       "      <td>1496395</td>\n",
       "      <td>ad</td>\n",
       "      <td>False</td>\n",
       "      <td>1</td>\n",
       "      <td>Tuesday</td>\n",
       "      <td>23</td>\n",
       "    </tr>\n",
       "    <tr>\n",
       "      <th>588100</th>\n",
       "      <td>1237779</td>\n",
       "      <td>ad</td>\n",
       "      <td>False</td>\n",
       "      <td>1</td>\n",
       "      <td>Tuesday</td>\n",
       "      <td>23</td>\n",
       "    </tr>\n",
       "  </tbody>\n",
       "</table>\n",
       "<p>588101 rows × 6 columns</p>\n",
       "</div>"
      ],
      "text/plain": [
       "        user_id test_group  converted  total_ads most_ads_day  most_ads_hour\n",
       "0       1069124         ad      False        130       Monday             20\n",
       "1       1119715         ad      False         93      Tuesday             22\n",
       "2       1144181         ad      False         21      Tuesday             18\n",
       "3       1435133         ad      False        355      Tuesday             10\n",
       "4       1015700         ad      False        276       Friday             14\n",
       "...         ...        ...        ...        ...          ...            ...\n",
       "588096  1278437         ad      False          1      Tuesday             23\n",
       "588097  1327975         ad      False          1      Tuesday             23\n",
       "588098  1038442         ad      False          3      Tuesday             23\n",
       "588099  1496395         ad      False          1      Tuesday             23\n",
       "588100  1237779         ad      False          1      Tuesday             23\n",
       "\n",
       "[588101 rows x 6 columns]"
      ]
     },
     "execution_count": 41,
     "metadata": {},
     "output_type": "execute_result"
    }
   ],
   "source": [
    "#eliminamos col unnamed porque repite los indices del DF\n",
    "data_mk.drop(['Unnamed:_0'], axis=1)\n"
   ]
  },
  {
   "cell_type": "markdown",
   "id": "832235ce",
   "metadata": {},
   "source": [
    "### Análisis A/B\n",
    "* Plantear hipótesis nula (H0) y alternativa (H1).\n",
    "* Definir nivel de confianza.\n",
    "* Definir estadístico de contraste y cálculo del PValor.\n",
    "* Comparar Pvalor con alpha."
   ]
  },
  {
   "cell_type": "markdown",
   "id": "44a58a3e",
   "metadata": {},
   "source": [
    "##### 1-Definicion de hipótesis\n",
    "\n",
    "H0 = \"No existen diferencias de conversion entre hacer o no hacer campaña publicitaria\". <br>\n",
    "H1 = \"Existen diferencias entre hacer campañas o no\""
   ]
  },
  {
   "cell_type": "markdown",
   "id": "2c929db8",
   "metadata": {},
   "source": [
    "##### 2-Definimos nivel de confianza\n",
    "\n",
    "Se define en el 95% por lo que el alpha es del 5%."
   ]
  },
  {
   "cell_type": "markdown",
   "id": "02d070fd",
   "metadata": {},
   "source": [
    "3-Cálculos, definición del estádístico de contraste y pvalor"
   ]
  },
  {
   "cell_type": "code",
   "execution_count": 42,
   "id": "85cbe837",
   "metadata": {},
   "outputs": [
    {
     "data": {
      "text/html": [
       "<div>\n",
       "<style scoped>\n",
       "    .dataframe tbody tr th:only-of-type {\n",
       "        vertical-align: middle;\n",
       "    }\n",
       "\n",
       "    .dataframe tbody tr th {\n",
       "        vertical-align: top;\n",
       "    }\n",
       "\n",
       "    .dataframe thead th {\n",
       "        text-align: right;\n",
       "    }\n",
       "</style>\n",
       "<table border=\"1\" class=\"dataframe\">\n",
       "  <thead>\n",
       "    <tr style=\"text-align: right;\">\n",
       "      <th></th>\n",
       "      <th>Unnamed:_0</th>\n",
       "      <th>user_id</th>\n",
       "      <th>test_group</th>\n",
       "      <th>converted</th>\n",
       "      <th>total_ads</th>\n",
       "      <th>most_ads_day</th>\n",
       "      <th>most_ads_hour</th>\n",
       "    </tr>\n",
       "  </thead>\n",
       "  <tbody>\n",
       "    <tr>\n",
       "      <th>0</th>\n",
       "      <td>0</td>\n",
       "      <td>1069124</td>\n",
       "      <td>ad</td>\n",
       "      <td>0</td>\n",
       "      <td>130</td>\n",
       "      <td>Monday</td>\n",
       "      <td>20</td>\n",
       "    </tr>\n",
       "    <tr>\n",
       "      <th>1</th>\n",
       "      <td>1</td>\n",
       "      <td>1119715</td>\n",
       "      <td>ad</td>\n",
       "      <td>0</td>\n",
       "      <td>93</td>\n",
       "      <td>Tuesday</td>\n",
       "      <td>22</td>\n",
       "    </tr>\n",
       "    <tr>\n",
       "      <th>2</th>\n",
       "      <td>2</td>\n",
       "      <td>1144181</td>\n",
       "      <td>ad</td>\n",
       "      <td>0</td>\n",
       "      <td>21</td>\n",
       "      <td>Tuesday</td>\n",
       "      <td>18</td>\n",
       "    </tr>\n",
       "    <tr>\n",
       "      <th>3</th>\n",
       "      <td>3</td>\n",
       "      <td>1435133</td>\n",
       "      <td>ad</td>\n",
       "      <td>0</td>\n",
       "      <td>355</td>\n",
       "      <td>Tuesday</td>\n",
       "      <td>10</td>\n",
       "    </tr>\n",
       "    <tr>\n",
       "      <th>4</th>\n",
       "      <td>4</td>\n",
       "      <td>1015700</td>\n",
       "      <td>ad</td>\n",
       "      <td>0</td>\n",
       "      <td>276</td>\n",
       "      <td>Friday</td>\n",
       "      <td>14</td>\n",
       "    </tr>\n",
       "  </tbody>\n",
       "</table>\n",
       "</div>"
      ],
      "text/plain": [
       "   Unnamed:_0  user_id test_group  converted  total_ads most_ads_day  \\\n",
       "0           0  1069124         ad          0        130       Monday   \n",
       "1           1  1119715         ad          0         93      Tuesday   \n",
       "2           2  1144181         ad          0         21      Tuesday   \n",
       "3           3  1435133         ad          0        355      Tuesday   \n",
       "4           4  1015700         ad          0        276       Friday   \n",
       "\n",
       "   most_ads_hour  \n",
       "0             20  \n",
       "1             22  \n",
       "2             18  \n",
       "3             10  \n",
       "4             14  "
      ]
     },
     "execution_count": 42,
     "metadata": {},
     "output_type": "execute_result"
    }
   ],
   "source": [
    "# convertimos columna de conversión a valores enteros\n",
    "\n",
    "data_mk['converted'] = data_mk['converted'].astype(int)\n",
    "data_mk.head()"
   ]
  },
  {
   "cell_type": "code",
   "execution_count": 43,
   "id": "24aa4b3c",
   "metadata": {},
   "outputs": [
    {
     "name": "stdout",
     "output_type": "stream",
     "text": [
      "0    ad\n",
      "1    ad\n",
      "2    ad\n",
      "3    ad\n",
      "4    ad\n",
      "Name: test_group, dtype: object\n",
      "18     psa\n",
      "38     psa\n",
      "68     psa\n",
      "140    psa\n",
      "157    psa\n",
      "Name: test_group, dtype: object\n"
     ]
    }
   ],
   "source": [
    "#Filtramos el df y en uno dejamos solo los que tuvieron aviso y en otro los que no\n",
    "tratamiento_ad = data_mk.query('test_group == \"ad\"')\n",
    "control_psa = data_mk.query('test_group == \"psa\"')\n",
    "\n",
    "print(tratamiento_ad.head()['test_group'])\n",
    "print(control_psa.head()['test_group'])\n"
   ]
  },
  {
   "cell_type": "code",
   "execution_count": 44,
   "id": "0edd4d4d",
   "metadata": {},
   "outputs": [
    {
     "name": "stdout",
     "output_type": "stream",
     "text": [
      "Promedio conversión df tratamiento ad: 0.025546559636683747\n",
      "Promedio conversión df control psa: 0.01785410644448223\n",
      "Promedio conversión df global: 0.02523886203220195\n"
     ]
    }
   ],
   "source": [
    "#Cálculamos los valores de conversion de los tres df\n",
    "print(\"Promedio conversión df tratamiento ad: \" + str(tratamiento_ad['converted'].mean()))\n",
    "print(\"Promedio conversión df control psa: \" + str(control_psa['converted'].mean()))\n",
    "print(\"Promedio conversión df global: \" + str(data_mk['converted'].mean()))"
   ]
  },
  {
   "cell_type": "code",
   "execution_count": 45,
   "id": "74d81721",
   "metadata": {},
   "outputs": [
    {
     "name": "stdout",
     "output_type": "stream",
     "text": [
      "conversion con anuncio:0.025546559636683747\n",
      "conversion sin anuncio:0.01785410644448223\n"
     ]
    }
   ],
   "source": [
    "## esto calcula la cantidad de clientes que vieron anuncio y comprar dividido todos los que recibieron anuncio\n",
    "tasa_convert_ad=len(tratamiento_ad.query('converted == 1')) / len(tratamiento_ad)\n",
    "\n",
    "\n",
    "## esto calcula la cantidad de clientes que vieron anuncio y comprar dividido todos los que no recibieron anuncio\n",
    "tasa_convert_psa=len(control_psa.query('converted == 1')) / len(control_psa) \n",
    "\n",
    "print(\"conversion con anuncio:\" + str(tasa_convert_ad))\n",
    "print(\"conversion sin anuncio:\" + str(tasa_convert_psa))"
   ]
  },
  {
   "cell_type": "markdown",
   "id": "d6a96c9d",
   "metadata": {},
   "source": [
    "#### Aplicamos Test Z"
   ]
  },
  {
   "cell_type": "code",
   "execution_count": 46,
   "id": "c7e41e1b",
   "metadata": {},
   "outputs": [
    {
     "name": "stdout",
     "output_type": "stream",
     "text": [
      "Se deja el parámetro 'Alternative' que plantea por defecto probar si hay una diferencia significativa en ambas direcciones.\n",
      "P valor: 1.7052807161559727e-13\n",
      "T valor: 7.3700781265454145\n",
      "Rechazo h0: Se confirma que los que vieron el anuncio compraron mas\n"
     ]
    }
   ],
   "source": [
    "#creamos variables y las cargamos a arrays de numpy porque asi lo pide la fc\n",
    "conv_adv = len(tratamiento_ad.query('converted == 1'))\n",
    "tot_adv = len(tratamiento_ad)\n",
    "conv_psa = len(control_psa.query('converted == 1')) \n",
    "tot_psa = len(control_psa) \n",
    "\n",
    "#creamos listas numpy\n",
    "arr_convert = np.array([conv_adv, conv_psa])\n",
    "arr_vis = np.array([tot_adv, tot_psa])\n",
    "\n",
    "\n",
    "#calculos con ZTest en ambas direcciones\n",
    "pvalor = proportions_ztest(count=arr_convert, nobs=arr_vis)[1]\n",
    "tvalor = proportions_ztest(count=arr_convert, nobs=arr_vis)[0]\n",
    "print(\"Se deja el parámetro 'Alternative' que plantea por defecto probar si hay una diferencia significativa en ambas direcciones.\")\n",
    "print(\"P valor: \" + str(pvalor))\n",
    "print(\"T valor: \" + str(tvalor))\n",
    "status_prueba1 = \"\"\n",
    "\n",
    "if pvalor<0.05:\n",
    "    print(\"Rechazo h0: Se confirma que los que vieron el anuncio compraron mas\")\n",
    "else:\n",
    "    print(\"No Rechazo h0: No existe evidencia estadística que nos confirme que ver el anuncio impacte en la compra\")\n",
    "\n",
    "\n"
   ]
  },
  {
   "cell_type": "code",
   "execution_count": 47,
   "id": "e251c3d5",
   "metadata": {},
   "outputs": [
    {
     "name": "stdout",
     "output_type": "stream",
     "text": [
      "Se deja el parámetro 'Alternative' que plantea por defecto probar si hay una diferencia significativa en ambas direcciones.\n",
      "P valor: 8.526403580779863e-14\n",
      "T valor: 7.3700781265454145\n",
      "Rechazo h0: Se confirma que los que vieron el anuncio compraron mas\n"
     ]
    }
   ],
   "source": [
    "#calculos con ZTest tipo larger para probar si la proporción en la primera muestra es mayor que en la segunda muestra.\n",
    "pvalor = proportions_ztest(count=arr_convert, nobs=arr_vis, alternative='larger')[1]\n",
    "tvalor = proportions_ztest(count=arr_convert, nobs=arr_vis, alternative='larger')[0]\n",
    "print(\"Se deja el parámetro 'Alternative' que plantea por defecto probar si hay una diferencia significativa en ambas direcciones.\")\n",
    "print(\"P valor: \" + str(pvalor))\n",
    "print(\"T valor: \" + str(tvalor))\n",
    "status_prueba1 = \"\"\n",
    "\n",
    "if pvalor < 0.05:\n",
    "    print(\"Rechazo h0: Se confirma que los que vieron el anuncio compraron mas\")\n",
    "else:\n",
    "    print(\"No Rechazo h0: No existe evidencia estadística que nos confirme que ver el anuncio impacte en la compra\")"
   ]
  },
  {
   "cell_type": "markdown",
   "id": "886bb24c",
   "metadata": {},
   "source": [
    "### Conclusión\n",
    "\n",
    "<p>A partir del test se comprobó que la tasa superior de conversión de las personas que vieron anuncios, es estadísticamente representativa, por lo tanto se recomienta implementar las campañas por el efecto positivo que tienen en las compras de los clientes.</p>"
   ]
  },
  {
   "cell_type": "markdown",
   "id": "02025ea4",
   "metadata": {},
   "source": []
  }
 ],
 "metadata": {
  "kernelspec": {
   "display_name": "Python 3 (ipykernel)",
   "language": "python",
   "name": "python3"
  },
  "language_info": {
   "codemirror_mode": {
    "name": "ipython",
    "version": 3
   },
   "file_extension": ".py",
   "mimetype": "text/x-python",
   "name": "python",
   "nbconvert_exporter": "python",
   "pygments_lexer": "ipython3",
   "version": "3.11.5"
  }
 },
 "nbformat": 4,
 "nbformat_minor": 5
}
